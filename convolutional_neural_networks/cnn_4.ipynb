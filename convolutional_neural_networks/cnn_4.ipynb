{
 "cells": [
  {
   "attachments": {},
   "cell_type": "markdown",
   "metadata": {},
   "source": [
    "## CNN 학습 구현 - MNIST"
   ]
  },
  {
   "cell_type": "code",
   "execution_count": 1,
   "metadata": {},
   "outputs": [],
   "source": [
    "import tensorflow as tf\n",
    "import numpy as np\n",
    "import matplotlib.pyplot as plt\n",
    "from collections import OrderedDict"
   ]
  },
  {
   "attachments": {},
   "cell_type": "markdown",
   "metadata": {},
   "source": [
    "#### util functions"
   ]
  },
  {
   "cell_type": "code",
   "execution_count": 2,
   "metadata": {},
   "outputs": [],
   "source": [
    "def im2col(input_data, filter_h, filter_w, stride = 1, pad = 0):\n",
    "    N, C, H, W = input_data.shape\n",
    "    \n",
    "    out_h = (H +2*pad - filter_h) // stride + 1\n",
    "    out_w = (W +2*pad - filter_w) // stride + 1\n",
    "    \n",
    "    img = np.pad(input_data, [(0, 0), (0, 0), (pad, pad), (pad, pad)], 'constant')\n",
    "    col = np.zeros((N, C, filter_h, filter_w, out_h, out_w))\n",
    "    \n",
    "    for y in range(filter_h):\n",
    "        y_max = y + stride * out_h\n",
    "        for x in range(filter_w):\n",
    "            x_max = x + stride * out_w\n",
    "            col[:, :, y, x, :, :] = img[:, :, y:y_max:stride, x:x_max:stride]\n",
    "            \n",
    "    col = col.transpose(0, 4, 5, 1, 2, 3).reshape(N * out_h * out_w, -1)\n",
    "    return col\n",
    "\n",
    "def col2im(col, input_shape, filter_h, filter_w, stride = 1 , pad = 0):\n",
    "    N, C, H, W = input_shape\n",
    "    out_h = (H + 2*pad - filter_h) // stride + 1\n",
    "    out_w = (W + 2*pad - filter_w) // stride + 1\n",
    "    \n",
    "    col = col.reshape(N, out_h, out_w, C, filter_h, filter_w).transpose(0,3,4,5,1,2)\n",
    "    \n",
    "    img = np.zeros((N, C, H + 2*pad + stride -1, W + 2 * pad + stride - 1))\n",
    "    \n",
    "    for y in range(filter_h):\n",
    "        y_max = y + stride * out_h\n",
    "        for x in range(filter_w):\n",
    "            x_max = x + stride * out_w\n",
    "            img[:, :, y:y_max:stride, x:x_max:stride] += col[:, :, y, x, :, :]\n",
    "            \n",
    "    return img[:, :, pad:H+pad, pad:W+pad]\n",
    "\n",
    "def softmax(x):\n",
    "    if x.ndim == 2:\n",
    "        x=x.T\n",
    "        x= x- np.max(x,axis=0)\n",
    "        y = np.exp(x) / np.sum(np.exp(x), axis=0)\n",
    "        \n",
    "        return y.T\n",
    "\n",
    "    x = x - np.max(x)\n",
    "    return np.exp(x) / np.sum(np.exp(x))\n",
    "\n",
    "def mean_squared_error(pred_y, true_y):\n",
    "    return 0.5 * np.sum((pred_y - true_y)**2)\n",
    "\n",
    "def cross_entropy_error(pred_y, true_y):\n",
    "    if pred_y.ndim ==1:\n",
    "        true_y = true_y.reshape(1, true_y.size)\n",
    "        pred_y = pred_y.reshape(1, pred_y.size)\n",
    "    \n",
    "    if true_y.size == pred_y.size:\n",
    "        true_y = true_y.argmax(axis=1)\n",
    "        \n",
    "    batch_size = pred_y.shape[0]\n",
    "    return -np.sum(np.log(pred_y[np.arange(batch_size), true_y] + 1e-7)) / batch_size\n",
    "\n",
    "def softmax_loss(X, true_y):\n",
    "    pred_y = softmax(X)\n",
    "    return cross_entropy_error(pred_y,true_y)"
   ]
  },
  {
   "attachments": {},
   "cell_type": "markdown",
   "metadata": {},
   "source": [
    "#### Utill Classes"
   ]
  },
  {
   "cell_type": "code",
   "execution_count": 3,
   "metadata": {},
   "outputs": [],
   "source": [
    "class Conv2D:\n",
    "    def __init__(self,W,b, stride=1, pad=0):\n",
    "        self.W = W\n",
    "        self.b = b\n",
    "        self.stride = stride\n",
    "        self.pad = pad\n",
    "        \n",
    "        self.input_data = None\n",
    "        self.col = None\n",
    "        self.col_W = None\n",
    "        \n",
    "        self.dW = None\n",
    "        self.db= None\n",
    "        \n",
    "    def forward(self, input_data):\n",
    "        FN, C, FH, FW = self.W.shape\n",
    "        N, C, H, W = input_data.shape\n",
    "        \n",
    "        out_h = (H + 2 * self.pad - FH) // self.stride + 1\n",
    "        out_w = (W + 2 * self.pad - FW) // self.stride + 1\n",
    "        \n",
    "        col = im2col(input_data,FH,FW,self.stride,self.pad)\n",
    "        col_W = self.W.reshape(FN,-1).T\n",
    "        \n",
    "        out = np.dot(col, col_W)+ self.b\n",
    "        output = out.reshape(N, out_h, out_w, -1).transpose(0, 3, 1, 2)\n",
    "        \n",
    "        self.input_data = input_data\n",
    "        self.col = col\n",
    "        self.col_W = col_W\n",
    "        \n",
    "        return output\n",
    "    \n",
    "    \n",
    "    def backward(self, dout):\n",
    "        FN, C, FH, FW = self.W.shape\n",
    "        dout = dout.transpose(0,2,3,1).reshape(-1,FN)\n",
    "        \n",
    "        self.db = np.sum(dout, axis= 0)\n",
    "        self.dW = np.dot(self.col.T, dout)\n",
    "        self.dW = self.dW.transpose(1, 0).reshape(FN, C, FH, FW)\n",
    "        \n",
    "        dcol = np.dot(dout, self.col_W.T)\n",
    "        dx = col2im(dcol, self.input_data.shape,FH,FW,self.stride, self.pad)\n",
    "        \n",
    "        return dx"
   ]
  },
  {
   "cell_type": "code",
   "execution_count": 4,
   "metadata": {},
   "outputs": [],
   "source": [
    "class Pooling2D:\n",
    "    def __init__(self, kernel_size=2, stride=1, pad =0):\n",
    "        self.kernel_size = kernel_size\n",
    "        self.stride = stride\n",
    "        self.pad = pad\n",
    "        \n",
    "        self.input_data = None\n",
    "        self.arg_max = None\n",
    "        \n",
    "    def forward(self, input_data):\n",
    "        N, C, H, W =input_data.shape\n",
    "        out_h = (H - self.kernel_size) // self.stride + 1\n",
    "        out_w = (W - self.kernel_size) // self.stride + 1\n",
    "        \n",
    "        col = im2col(input_data, self.kernel_size, self.kernel_size, self.stride, self.pad)\n",
    "        col = col.reshape(-1, self.kernel_size * self.kernel_size)\n",
    "        \n",
    "        arg_max = np.argmax(col, axis=1)\n",
    "        out = np.max(col, axis=1)\n",
    "        output = out.reshape(N, out_h, out_w, C).transpose(0,3,1,2)\n",
    "        \n",
    "        self.input_data = input_data\n",
    "        self.arg_max = arg_max\n",
    "        \n",
    "        return output\n",
    "    \n",
    "    def backward(self, dout):\n",
    "        dout = dout.transpose(0, 2, 3, 1)\n",
    "        \n",
    "        pool_size = self.kernel_size * self.kernel_size\n",
    "        dmax = np.zeros((dout.size,pool_size))\n",
    "        dmax[np.arange(self.arg_max.size), self.arg_max.flatten()] =dout.flatten()\n",
    "        dmax = dmax.reshape(dout.shape + (pool_size,))\n",
    "        \n",
    "        dcol = dmax.reshape(dmax.shape[0] * dmax.shape[1] * dmax.shape[2], -1)\n",
    "        dx = col2im(dcol, self.input_data.shape, self.kernel_size, self.kernel_size, self.stride, self.pad)\n",
    "        \n",
    "        return dx\n",
    "    "
   ]
  },
  {
   "cell_type": "code",
   "execution_count": 5,
   "metadata": {},
   "outputs": [],
   "source": [
    "class ReLU:\n",
    "    def __init__(self):\n",
    "        self.mask = None\n",
    "        \n",
    "    def forward(self, x):\n",
    "        self.mask = (x <= 0)\n",
    "        out = x.copy()\n",
    "        out[self.mask] = 0\n",
    "        \n",
    "        return out\n",
    "    \n",
    "    def backward(self, dout):\n",
    "        dout[self.mask] = 0\n",
    "        dx = dout\n",
    "        \n",
    "        return dx\n",
    "    \n",
    "class Sigmoid:\n",
    "    def __init__(self):\n",
    "        self.out = None\n",
    "        \n",
    "    def forward(self, x):\n",
    "        out = sigmoid(x)\n",
    "        self.out = out\n",
    "        \n",
    "        return out\n",
    "    \n",
    "    def backword(self, dout):\n",
    "        dx = dout * (1.0 - self.out) * self.out\n",
    "        \n",
    "        return dx\n",
    "    \n",
    "class Layer:\n",
    "    def __init__(self, W, b):\n",
    "        self.W = W\n",
    "        self.b = b\n",
    "        \n",
    "        self.input_data = None\n",
    "        self.input_data_shape = None\n",
    "        \n",
    "        self.dW = None\n",
    "        self.db = None\n",
    "        \n",
    "    def forward(self, input_data):\n",
    "        self.input_data_shape = input_data.shape\n",
    "        input_data = input_data.reshape(input_data.shape[0],-1)\n",
    "        self.input_data = input_data\n",
    "        \n",
    "        out = np.dot(self.input_data, self.W) + self.b\n",
    "        \n",
    "        return out\n",
    "    #err\n",
    "    def backward(self, dout):\n",
    "        dx = np.dot(dout, self.W.T)\n",
    "        self.dW = np.dot(self.input_data.T, dout)\n",
    "        self.db = np.sum(dout, axis=0)\n",
    "        \n",
    "        dx = dx.reshape(*self.input_data_shape)\n",
    "        \n",
    "        return dx\n",
    "    \n",
    "class Softmax:\n",
    "    def __init__(self):\n",
    "        self.loss = None\n",
    "        self.y = None\n",
    "        self.t = None\n",
    "        \n",
    "    def forward(self,x,t):\n",
    "        self.t = t\n",
    "        self.y = softmax(x)\n",
    "        self.loss = cross_entropy_error(self.y, self.t)\n",
    "        \n",
    "        return self.loss\n",
    "        \n",
    "    def backward(self, dout=1):\n",
    "        batch_size = self.t.shape[0]\n",
    "        if self.t.size == self.y.size:\n",
    "            dx = (self.y - self.t) / batch_size\n",
    "        else:\n",
    "            dx = self.y.copy()\n",
    "            dx[np.arange(batch_size), self.t] -= 1\n",
    "            dx = dx / batch_size\n",
    "        \n",
    "        return dx"
   ]
  },
  {
   "cell_type": "code",
   "execution_count": 6,
   "metadata": {},
   "outputs": [],
   "source": [
    "class SGD:\n",
    "    def __init__(self, learning_rate=0.01):\n",
    "        self.learning_rate = learning_rate\n",
    "        \n",
    "    def update(self, params, grads):\n",
    "        for key in params.keys():\n",
    "            params[key] -= self.learning_rate * grads[key]"
   ]
  },
  {
   "attachments": {},
   "cell_type": "markdown",
   "metadata": {},
   "source": [
    "#### 데이터 로드"
   ]
  },
  {
   "cell_type": "code",
   "execution_count": 7,
   "metadata": {},
   "outputs": [],
   "source": [
    "np.random.seed(42)\n",
    "\n",
    "mnist = tf.keras.datasets.mnist\n",
    "\n",
    "(x_train, t_train), (x_test, t_test) = mnist.load_data()\n",
    "num_classes = 10"
   ]
  },
  {
   "cell_type": "code",
   "execution_count": 8,
   "metadata": {},
   "outputs": [
    {
     "name": "stdout",
     "output_type": "stream",
     "text": [
      "(60000, 28, 28)\n",
      "(60000,)\n",
      "(10000, 28, 28)\n",
      "(10000,)\n"
     ]
    }
   ],
   "source": [
    "print(x_train.shape)\n",
    "print(t_train.shape)\n",
    "print(x_test.shape)\n",
    "print(t_test.shape)"
   ]
  },
  {
   "cell_type": "code",
   "execution_count": 9,
   "metadata": {},
   "outputs": [
    {
     "name": "stdout",
     "output_type": "stream",
     "text": [
      "(60000, 1, 28, 28)\n",
      "(60000,)\n",
      "(10000, 1, 28, 28)\n",
      "(10000,)\n"
     ]
    }
   ],
   "source": [
    "x_train, x_test = np.expand_dims(x_train, axis=1),np.expand_dims(x_test, axis=1)\n",
    "print(x_train.shape)\n",
    "print(t_train.shape)\n",
    "print(x_test.shape)\n",
    "print(t_test.shape)"
   ]
  },
  {
   "cell_type": "code",
   "execution_count": 10,
   "metadata": {},
   "outputs": [
    {
     "name": "stdout",
     "output_type": "stream",
     "text": [
      "(3000, 1, 28, 28)\n",
      "(3000,)\n",
      "(500, 1, 28, 28)\n",
      "(500,)\n"
     ]
    }
   ],
   "source": [
    "x_train = x_train[:3000]\n",
    "x_test = x_test[:500]\n",
    "t_train = t_train[:3000]\n",
    "t_test = t_test[:500]\n",
    "print(x_train.shape)\n",
    "print(t_train.shape)\n",
    "print(x_test.shape)\n",
    "print(t_test.shape)"
   ]
  },
  {
   "attachments": {},
   "cell_type": "markdown",
   "metadata": {},
   "source": [
    "#### Build Model"
   ]
  },
  {
   "cell_type": "code",
   "execution_count": 18,
   "metadata": {},
   "outputs": [],
   "source": [
    "class Mymodel:\n",
    "    def __init__(self, input_dim=(1, 28, 28), num_outputs=10):\n",
    "        conv1_block = {'num_filters' : 30,\n",
    "                       'kernel_size' : 3,\n",
    "                       'stride' : 1,\n",
    "                       'pad' : 0}\n",
    "        input_size = input_dim[1]\n",
    "        conv_output_size = ((input_size - conv1_block['kernel_size'] + 2*conv1_block['pad']) // conv1_block['stride']) + 1\n",
    "        pool_output_size = int(conv1_block['num_filters'] * (conv_output_size/2) * (conv_output_size/2))\n",
    "        \n",
    "        self.params = {}\n",
    "        self.params['W1'], self.params['b1'] = self.__init_weights_conv(conv1_block['num_filters'], input_dim[0], 3)\n",
    "        self.params['W2'], self.params['b2'] = self.__init_weights_fc(pool_output_size, 256)\n",
    "        self.params['W3'], self.params['b3'] = self.__init_weights_fc(256, 10)\n",
    "        \n",
    "        self.layers = OrderedDict()\n",
    "        self.layers['Conv1'] = Conv2D(self.params['W1'], self.params['b1'])\n",
    "        self.layers['ReLU1'] = ReLU()\n",
    "        self.layers['Pool1'] = Pooling2D(kernel_size=2, stride=2)\n",
    "        self.layers['FC1'] = Layer(self.params['W2'], self.params['b2'])\n",
    "        self.layers['ReLU'] = ReLU()\n",
    "        self.layers['FC2'] = Layer(self.params['W3'], self.params['b3'])\n",
    "        self.last_layer = Softmax()\n",
    "        \n",
    "    def __init_weights_conv(self, num_filters, data_dim, kernel_size, stride=2, pad=0,weight_std=0.01):\n",
    "        weights = weight_std * np.random.randn(num_filters, data_dim, kernel_size, kernel_size)\n",
    "        biases = np.zeros(num_filters)\n",
    "        return weights, biases\n",
    "    \n",
    "    def __init_weights_fc(self, num_inputs, num_outputs, weight_std=0.01):\n",
    "        weights = weight_std * np.random.randn(num_inputs, num_outputs)\n",
    "        biases = np.zeros(num_outputs)\n",
    "        return weights, biases\n",
    "    \n",
    "    def forward(self, x):\n",
    "        for layer in self.layers.values():\n",
    "            x = layer.forward(x)\n",
    "        return x\n",
    "    \n",
    "    def loss(self, x, true_y):\n",
    "        pred_y = self.forward(x)\n",
    "        return self.last_layer.forward(pred_y, true_y)\n",
    "    \n",
    "    def accuracy(self, x, true_y, batch_size=100):\n",
    "        if true_y.ndim != 1:\n",
    "            true_y = np.argmax(true_y, axis=1)\n",
    "            \n",
    "        accuracy = 0.0\n",
    "        \n",
    "        for i in range(int(x.shape[0] / batch_size)):\n",
    "            tx = x[i*batch_size:(i+1)*batch_size]\n",
    "            tt = true_y[i*batch_size:(i+1)*batch_size]\n",
    "            y = self.forward(tx)\n",
    "            y = np.argmax(y, axis=1)\n",
    "            accuracy += np.sum(y == tt)\n",
    "            \n",
    "        return accuracy / x.shape[0]\n",
    "        \n",
    "    def gradient(self, x, true_y):\n",
    "        self.loss(x, true_y)\n",
    "        \n",
    "        dout = 1\n",
    "        dout = self.last_layer.backward(dout)\n",
    "        \n",
    "        layers = list(self.layers.values())\n",
    "        layers.reverse()\n",
    "        for layer in layers:\n",
    "            dout = layer.backward(dout)\n",
    "            \n",
    "        grads={}\n",
    "        grads['W1'], grads['b1'] = self.layers['Conv1'].dW, self.layers['Conv1'].db\n",
    "        grads['W2'], grads['b2'] = self.layers['FC1'].dW, self.layers['FC1'].db\n",
    "        grads['W3'], grads['b3'] = self.layers['FC2'].dW, self.layers['FC2'].db\n",
    "        \n",
    "        return grads\n",
    "            "
   ]
  },
  {
   "attachments": {},
   "cell_type": "markdown",
   "metadata": {},
   "source": [
    "#### Hyper Parameters"
   ]
  },
  {
   "cell_type": "code",
   "execution_count": 19,
   "metadata": {},
   "outputs": [],
   "source": [
    "epocks = 10 \n",
    "train_size = x_train.shape[0]\n",
    "batch_size = 200\n",
    "learning_rate = 0.001\n",
    "current_iter = 0\n",
    "\n",
    "iter_per_epock = max(train_size // batch_size,1)\n"
   ]
  },
  {
   "cell_type": "code",
   "execution_count": 20,
   "metadata": {},
   "outputs": [],
   "source": [
    "train_loss_list = []\n",
    "train_acc_list = []\n",
    "test_acc_list = []\n"
   ]
  },
  {
   "cell_type": "code",
   "execution_count": 21,
   "metadata": {},
   "outputs": [
    {
     "data": {
      "text/plain": [
       "dict_keys(['W1', 'b1', 'W2', 'b2', 'W3', 'b3'])"
      ]
     },
     "execution_count": 21,
     "metadata": {},
     "output_type": "execute_result"
    }
   ],
   "source": [
    "model = Mymodel()\n",
    "model.params.keys()"
   ]
  },
  {
   "cell_type": "code",
   "execution_count": 22,
   "metadata": {},
   "outputs": [],
   "source": [
    "optimizer = SGD(learning_rate)"
   ]
  },
  {
   "cell_type": "code",
   "execution_count": 23,
   "metadata": {},
   "outputs": [
    {
     "name": "stdout",
     "output_type": "stream",
     "text": [
      "Epoch: 1 Train loss: 2.0851 Train Accuracy: 0.4307 Test Accuracy: 0.3940\n",
      "Epoch: 2 Train loss: 1.5460 Train Accuracy: 0.6710 Test Accuracy: 0.5820\n",
      "Epoch: 3 Train loss: 0.9737 Train Accuracy: 0.7863 Test Accuracy: 0.7240\n",
      "Epoch: 4 Train loss: 0.6024 Train Accuracy: 0.8390 Test Accuracy: 0.7800\n",
      "Epoch: 5 Train loss: 0.5464 Train Accuracy: 0.8637 Test Accuracy: 0.8280\n",
      "Epoch: 6 Train loss: 0.3532 Train Accuracy: 0.8793 Test Accuracy: 0.8440\n",
      "Epoch: 7 Train loss: 0.3205 Train Accuracy: 0.8880 Test Accuracy: 0.8560\n",
      "Epoch: 8 Train loss: 0.2831 Train Accuracy: 0.8920 Test Accuracy: 0.8640\n",
      "Epoch: 9 Train loss: 0.3686 Train Accuracy: 0.9010 Test Accuracy: 0.8940\n",
      "Epoch: 10 Train loss: 0.3008 Train Accuracy: 0.8933 Test Accuracy: 0.8620\n"
     ]
    }
   ],
   "source": [
    "for epoch in range(epocks):\n",
    "    for i in range(iter_per_epock):\n",
    "        batch_mask = np.random.choice(train_size, batch_size)\n",
    "        x_batch = x_train[batch_mask]\n",
    "        t_batch = t_train[batch_mask]\n",
    "        \n",
    "        grads = model.gradient(x_batch, t_batch)\n",
    "        optimizer.update(model.params, grads)\n",
    "        \n",
    "        loss = model.loss(x_batch, t_batch)\n",
    "        train_loss_list.append(loss)\n",
    "        \n",
    "        x_train_sample, t_train_sample = x_train, t_train\n",
    "        x_test_sample, t_test_sample = x_test, t_test\n",
    "        \n",
    "        train_acc = model.accuracy(x_train_sample, t_train_sample)\n",
    "        test_acc = model.accuracy(x_test_sample, t_test_sample)\n",
    "        train_acc_list.append(train_acc)\n",
    "        test_acc_list.append(test_acc)\n",
    "        \n",
    "        current_iter += 1\n",
    "        \n",
    "    print (\"Epoch: {} Train loss: {:.4f} Train Accuracy: {:.4f} Test Accuracy: {:.4f}\".format(epoch+1, loss, train_acc, test_acc))"
   ]
  },
  {
   "cell_type": "code",
   "execution_count": 28,
   "metadata": {},
   "outputs": [
    {
     "data": {
      "image/png": "[encoded data removed]",
      "text/plain": [
       "<Figure size 640x480 with 1 Axes>"
      ]
     },
     "metadata": {},
     "output_type": "display_data"
    }
   ],
   "source": [
    "x = np.arange(current_iter)\n",
    "plt.plot(x, train_acc_list, marker='o', label='train', markevery=2)\n",
    "plt.plot(x, test_acc_list, marker='s', label='test', markevery=2)\n",
    "plt.grid()\n",
    "plt.xlabel('epochs')\n",
    "plt.ylabel('accuracy')\n",
    "plt.ylim(0, 1.0)\n",
    "plt.legend(loc='lower right')\n",
    "plt.show()"
   ]
  },
  {
   "cell_type": "code",
   "execution_count": 29,
   "metadata": {},
   "outputs": [
    {
     "data": {
      "image/png": "[encoded data removed]",
      "text/plain": [
       "<Figure size 640x480 with 1 Axes>"
      ]
     },
     "metadata": {},
     "output_type": "display_data"
    }
   ],
   "source": [
    "x = np.arange(current_iter)\n",
    "plt.plot(x, train_loss_list, marker='^', label='train_loss', markevery=2)\n",
    "plt.grid()\n",
    "plt.xlabel('epchs')\n",
    "plt.ylabel('cost')\n",
    "plt.ylim(0, 2.0)\n",
    "plt.legend(loc='right')\n",
    "plt.show()\n",
    "\n"
   ]
  },
  {
   "attachments": {},
   "cell_type": "markdown",
   "metadata": {},
   "source": [
    "#### 생각보다 학습이 잘 되지 않았던 이유\n",
    "- 학습데이터의 수 부족\n",
    "    - 학습 시간 고려해서 데이터 양을 줄였기 때문 60000>>3000\n",
    "- FC Layer의 노드수가 적절했는지\n",
    "- 학습률(learning rate)값이 적절했는지\n",
    "- 등등\n",
    "#### 어떤 조건에서 가장 좋은 결과를 내는지 는 값을 적절히 바꾸어 시도해봐야함"
   ]
  },
  {
   "cell_type": "code",
   "execution_count": null,
   "metadata": {},
   "outputs": [],
   "source": []
  }
 ],
 "metadata": {
  "kernelspec": {
   "display_name": "convolutional_neural_networks",
   "language": "python",
   "name": "python3"
  },
  "language_info": {
   "codemirror_mode": {
    "name": "ipython",
    "version": 3
   },
   "file_extension": ".py",
   "mimetype": "text/x-python",
   "name": "python",
   "nbconvert_exporter": "python",
   "pygments_lexer": "ipython3",
   "version": "3.10.4"
  },
  "orig_nbformat": 4,
  "vscode": {
   "interpreter": {
    "hash": "0be86c9a660717482c67210d5052ac0751f90cc4623431087c12413dfca50ccf"
   }
  }
 },
 "nbformat": 4,
 "nbformat_minor": 2
}
