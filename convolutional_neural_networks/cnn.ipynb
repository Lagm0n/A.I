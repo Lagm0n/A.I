{
 "cells": [
  {
   "attachments": {},
   "cell_type": "markdown",
   "metadata": {},
   "source": [
    "## 합성곱 신경망 (Convolutional Networks Networks, CNNs)\n",
    "- 이미지 인식, 음성 인식 등에 자주 사용됨<br> 특히 이미지 인식 분야에서 거의 모든 딥러닝 기술에 사용"
   ]
  },
  {
   "attachments": {},
   "cell_type": "markdown",
   "metadata": {},
   "source": [
    "##### 완전 연결계층과의 차이\n",
    "- 완전연결계층(Fully-Connected Layer)은 이미지와 같은 데이터의 형상(3차원)을 무시함\n",
    "- 모든 입력데이터를 동등하게 취급<br> 즉, 데이터의 특징을 잃어버리게 됨\n",
    "- 컨볼루션층(convolution layer)은 **<U>이미지 픽셀 사이의 관계를 고려</U>**\n",
    "- 완전연결계층은 공간정보를 손실하지만, 컨볼루션층은 공간정보를 유지\n",
    "    - 이미지와 같은 2차원(흑백) 또는 3차원(컬러)의 형상을 유지\n",
    "    - 공간정보를 유지하기 때문에 완전연결계층에 비해 적은 수의 파라미터를 요구"
   ]
  },
  {
   "attachments": {},
   "cell_type": "markdown",
   "metadata": {},
   "source": [
    "### 합성곱 연산\n",
    "- 필터(Filter)연산\n",
    "    - 입력 데이터에 필터를 통한 어떠한 연산을 진행\n",
    "    - **필터에 대응하는 원소끼리 곱하고, 그 합을 구함**\n",
    "    - 연산이 완료된 결과에 데이터를 **특징 맵(feature map)** 이라 부름\n",
    "- 필터(Filter)\n",
    "    - 커널(kernel)이라고도 칭함\n",
    "    - 흔히 사진 어플에서 사용하는 '이미지 필터'와 비슷한 개념\n",
    "    - 필터의 사이즈는 \"거의 항상 홀수\"\n",
    "        - 짝수이면 패딩이 비대칭이 되어버림\n",
    "        - 왼쪽, 오른쪽을 다르게 주어야함\n",
    "        - 중심위치가 존재, 즉 구별된 하나의 픽셀(중심 픽셀)이 존재\n",
    "    - 필터의 학습 파라미터 개수는 입력 데이터의 크기와 상관없이 일정<br> 따라사, 과적합을 방지할 수 있음"
   ]
  },
  {
   "attachments": {},
   "cell_type": "markdown",
   "metadata": {},
   "source": [
    "### 패딩(padding) 과 스트라이드(stride)\n",
    "- 필터(커널) 사이즈과 함께 **입력 이미지와 출력 이미지의 사이즈를 결정**하기 위해 사용\n",
    "- 사용자가 결정할 수 있음\n",
    "\n",
    "패딩\n",
    "- 입력 데이터의 주변을 특정 값으로 채우는 기법\n",
    "    - 주로 0으로 많이 채움\n",
    "- 출력 데이터의 크기\n",
    "    $(n + 2p - f + 1) * (n + 2p - f + 1)$<br>\n",
    "### 'valid' 와 'same'\n",
    "- valid\n",
    "    - 패딩을 주지 않음\n",
    "    - padding = 0 (0으로 채워진 테두리가 아니라 패딩을 주지 않는다는 의미)\n",
    "- same\n",
    "    - 패딩을 주어 입력 이미지의 크기와 연산 후의 이미지 크기를 같게함\n",
    "    - 만약, 필터(커널)의 크기가 k이면, <br>패딩의 크기는 $p = \\frac {k-1}{2}$(단,**stride=1**)\n",
    "\n",
    "### 스트라이드\n",
    "- 필터를 적용하는 간격을 의미\n",
    "\n",
    "### 출력 데이터의 크기\n",
    "$OH = \\frac {H+2P-FH}{S} + 1$<br>\n",
    "$OW = \\frac {W+2P-FW}{S} + 1$<br>\n",
    "    (H = 높이, W = 넓이, F = 필터, P = 패딩)\n",
    "- 입력 크기 : (H, W) \n",
    "- 필터 크기 : (FH, FW)\n",
    "- 출력 크기 : (OH, OW)\n",
    "- 패딩, 스트라이드 : P, S\n",
    "- (주의)\n",
    "    -  위 식의 값에서 $\\frac {H + 2P - FH}{S}$ 또는 $\\frac {W+2P-FW}{S}$가 정수로 나누어 떨어지는 값이어야 함\n",
    "    - 만약, 정수로 나누어 떨어지지 않으면<br> 패딩, 스트라이드 값을 조정하여 정수로 나누어 떨어지게 해야함\n",
    "\n",
    "### 풀링(Pooling)\n",
    "- 필터(커널) 사이즈 내에서 특정 값을 추출하는 과정\n",
    "\n",
    "### 맥스 풀링(Max Pooling)\n",
    "- 가장 많이 사용되는 방법\n",
    "- 출력 데이터의 사이즈 계산은 컨볼루션 연산과 동일\n",
    "$OH = \\frac {H+2P-FH}{S} + 1$<br>\n",
    "$OW = \\frac {W+2P-FW}{S} + 1$<br>\n",
    "- 일반적으로 stride=2, kernel_size=2를 통해<br> **특징 맵의 크기를 절반으로 <U>줄이는 역할</U>**\n",
    "- 모델이 물체의 주요한 특징을 학습할 수 잇도록 해주며,<br> 컨볼루션 신경망이 이동 불변성 특성을 가지게 해줌\n",
    "- 모델의 파라미터 개수를 줄여주고, 연산 속도를 빠르게 해줌\n",
    "\n",
    "### 평균 풀링(Avg Pooling)\n",
    "- 필터내의 있는 픽셀값의 평균을 구하는 과정\n",
    "- 과거에 많이 사용, 요즘은 잘 사용되지 않는다.\n",
    "- 팩스 풀링과 마찬가지로 stride=2, kernel_size=2를 통해<br> 특징 맵의 사이즈를 줄이는 역할\n",
    "\n",
    "\n"
   ]
  },
  {
   "attachments": {},
   "cell_type": "markdown",
   "metadata": {},
   "source": [
    "## 합성곱 연산의 의미\n",
    "### 2차원 이미지에 대한 필터 연산 예시\n",
    "- 가장자리 검출(Edge-detection)\n",
    "- 소벨 필터(Sobel Filter)\n",
    "    - Horizontal : 가로 방향의 미분을 구하는 필터 역할\n",
    "    - Vertical : 세로 방향의 미분을 구하는 필터 역할"
   ]
  },
  {
   "attachments": {},
   "cell_type": "markdown",
   "metadata": {},
   "source": [
    "# CNN start"
   ]
  },
  {
   "cell_type": "code",
   "execution_count": null,
   "metadata": {},
   "outputs": [],
   "source": [
    "import cv2\n",
    "import numpy as np\n",
    "import matplotlib.pyplot as plt\n",
    "import urllib\n",
    "import requests\n",
    "from io import BytesIO"
   ]
  },
  {
   "cell_type": "code",
   "execution_count": null,
   "metadata": {},
   "outputs": [],
   "source": []
  }
 ],
 "metadata": {
  "kernelspec": {
   "display_name": "convolutional_neural_networks",
   "language": "python",
   "name": "python3"
  },
  "language_info": {
   "name": "python",
   "version": "3.10.4 (tags/v3.10.4:9d38120, Mar 23 2022, 23:13:41) [MSC v.1929 64 bit (AMD64)]"
  },
  "orig_nbformat": 4,
  "vscode": {
   "interpreter": {
    "hash": "0be86c9a660717482c67210d5052ac0751f90cc4623431087c12413dfca50ccf"
   }
  }
 },
 "nbformat": 4,
 "nbformat_minor": 2
}
