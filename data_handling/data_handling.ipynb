{
 "cells": [
  {
   "cell_type": "code",
   "execution_count": 3,
   "metadata": {},
   "outputs": [
    {
     "name": "stdout",
     "output_type": "stream",
     "text": [
      "Please visit this URL to authorize this application: https://accounts.google.com/o/oauth2/auth?response_type=code&client_id=1024118044099-06k0ngtpfb6rsnq2gf2hkdb4084udmug.apps.googleusercontent.com&redirect_uri=http%3A%2F%2Flocalhost%3A50275%2F&scope=https%3A%2F%2Fwww.googleapis.com%2Fauth%2Fdrive&state=innxMSVWYNQI4O4tZ8lS8ucyVMyEt3&access_type=offline\n"
     ]
    }
   ],
   "source": [
    "from google.oauth2.credentials import Credentials\n",
    "from google_auth_oauthlib.flow import InstalledAppFlow\n",
    "\n",
    "flow = InstalledAppFlow.from_client_secrets_file(\n",
    "    r'C:\\repository\\credentials.json',\n",
    "    scopes=[r'https://www.googleapis.com/auth/drive']\n",
    ")\n",
    "creds = flow.run_local_server(port=0)"
   ]
  },
  {
   "cell_type": "code",
   "execution_count": 5,
   "metadata": {},
   "outputs": [
    {
     "ename": "UnknownApiNameOrVersion",
     "evalue": "name: drive  version: v3",
     "output_type": "error",
     "traceback": [
      "\u001b[1;31m---------------------------------------------------------------------------\u001b[0m",
      "\u001b[1;31mUnknownApiNameOrVersion\u001b[0m                   Traceback (most recent call last)",
      "Cell \u001b[1;32mIn[5], line 6\u001b[0m\n\u001b[0;32m      3\u001b[0m \u001b[39mimport\u001b[39;00m \u001b[39mio\u001b[39;00m\n\u001b[0;32m      4\u001b[0m \u001b[39mfrom\u001b[39;00m \u001b[39mgoogleapiclient\u001b[39;00m\u001b[39m.\u001b[39;00m\u001b[39mhttp\u001b[39;00m \u001b[39mimport\u001b[39;00m MediaIoBaseDownload\n\u001b[1;32m----> 6\u001b[0m service \u001b[39m=\u001b[39m build(\u001b[39m'\u001b[39;49m\u001b[39mdrive\u001b[39;49m\u001b[39m'\u001b[39;49m, \u001b[39m'\u001b[39;49m\u001b[39mv3\u001b[39;49m\u001b[39m'\u001b[39;49m, credentials\u001b[39m=\u001b[39;49mcreds)\n\u001b[0;32m      8\u001b[0m file_id \u001b[39m=\u001b[39m \u001b[39mr\u001b[39m\u001b[39m'\u001b[39m\u001b[39mGoogle Drive File ID\u001b[39m\u001b[39m'\u001b[39m\n\u001b[0;32m      9\u001b[0m request \u001b[39m=\u001b[39m service\u001b[39m.\u001b[39mfiles()\u001b[39m.\u001b[39mget_media(fileId\u001b[39m=\u001b[39mfile_id)\n",
      "File \u001b[1;32mc:\\repository\\A.I\\data_handling\\lib\\site-packages\\googleapiclient\\_helpers.py:130\u001b[0m, in \u001b[0;36mpositional.<locals>.positional_decorator.<locals>.positional_wrapper\u001b[1;34m(*args, **kwargs)\u001b[0m\n\u001b[0;32m    128\u001b[0m     \u001b[39melif\u001b[39;00m positional_parameters_enforcement \u001b[39m==\u001b[39m POSITIONAL_WARNING:\n\u001b[0;32m    129\u001b[0m         logger\u001b[39m.\u001b[39mwarning(message)\n\u001b[1;32m--> 130\u001b[0m \u001b[39mreturn\u001b[39;00m wrapped(\u001b[39m*\u001b[39margs, \u001b[39m*\u001b[39m\u001b[39m*\u001b[39mkwargs)\n",
      "File \u001b[1;32mc:\\repository\\A.I\\data_handling\\lib\\site-packages\\googleapiclient\\discovery.py:287\u001b[0m, in \u001b[0;36mbuild\u001b[1;34m(serviceName, version, http, discoveryServiceUrl, developerKey, model, requestBuilder, credentials, cache_discovery, cache, client_options, adc_cert_path, adc_key_path, num_retries, static_discovery, always_use_jwt_access)\u001b[0m\n",
      "File \u001b[1;32mc:\\repository\\A.I\\data_handling\\lib\\site-packages\\googleapiclient\\discovery.py:404\u001b[0m, in \u001b[0;36m_retrieve_discovery_doc\u001b[1;34m(url, http, cache_discovery, serviceName, version, cache, developerKey, num_retries, static_discovery)\u001b[0m\n",
      "\u001b[1;31mUnknownApiNameOrVersion\u001b[0m: name: drive  version: v3"
     ]
    }
   ],
   "source": [
    "from googleapiclient.discovery import build\n",
    "from googleapiclient.errors import HttpError\n",
    "import io\n",
    "from googleapiclient.http import MediaIoBaseDownload\n",
    "\n",
    "service = build('drive', 'v3', credentials=creds)\n",
    "\n",
    "file_id = r'Google Drive File ID'\n",
    "request = service.files().get_media(fileId=file_id)\n",
    "file = io.BytesIO()\n",
    "downloader = MediaIoBaseDownload(file, request)\n",
    "done = False\n",
    "while done is False:\n",
    "    status, done = downloader.next_chunk()\n",
    "    print(f\"Download {int(status.progress() * 100)}.\")\n",
    "file.seek(0)"
   ]
  },
  {
   "cell_type": "code",
   "execution_count": null,
   "metadata": {},
   "outputs": [],
   "source": []
  }
 ],
 "metadata": {
  "kernelspec": {
   "display_name": "data_handling",
   "language": "python",
   "name": "python3"
  },
  "language_info": {
   "codemirror_mode": {
    "name": "ipython",
    "version": 3
   },
   "file_extension": ".py",
   "mimetype": "text/x-python",
   "name": "python",
   "nbconvert_exporter": "python",
   "pygments_lexer": "ipython3",
   "version": "3.10.4"
  },
  "orig_nbformat": 4
 },
 "nbformat": 4,
 "nbformat_minor": 2
}
